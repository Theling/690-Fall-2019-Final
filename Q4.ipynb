{
 "cells": [
  {
   "cell_type": "markdown",
   "metadata": {},
   "source": [
    "# Build a Classifier\n",
    "\n",
    "Use the data provided below to train a classifer to detect each class.  Each file is a class.\n",
    "\n",
    "Include all code and the saved model files in the `zip`."
   ]
  },
  {
   "cell_type": "code",
   "execution_count": 2,
   "metadata": {},
   "outputs": [
    {
     "name": "stdout",
     "output_type": "stream",
     "text": [
      "--2019-12-06 18:14:37--  https://labs-fannie-data.s3.amazonaws.com/q4_l0.csv\n",
      "Resolving labs-fannie-data.s3.amazonaws.com (labs-fannie-data.s3.amazonaws.com)... 52.216.16.216\n",
      "Connecting to labs-fannie-data.s3.amazonaws.com (labs-fannie-data.s3.amazonaws.com)|52.216.16.216|:443... connected.\n",
      "HTTP request sent, awaiting response... 200 OK\n",
      "Length: 2353657 (2.2M) [text/csv]\n",
      "Saving to: ‘q4_l0.csv’\n",
      "\n",
      "q4_l0.csv           100%[===================>]   2.24M  13.8MB/s    in 0.2s    \n",
      "\n",
      "2019-12-06 18:14:37 (13.8 MB/s) - ‘q4_l0.csv’ saved [2353657/2353657]\n",
      "\n",
      "--2019-12-06 18:14:37--  https://labs-fannie-data.s3.amazonaws.com/q4_l1.csv\n",
      "Resolving labs-fannie-data.s3.amazonaws.com (labs-fannie-data.s3.amazonaws.com)... 52.216.16.216\n",
      "Connecting to labs-fannie-data.s3.amazonaws.com (labs-fannie-data.s3.amazonaws.com)|52.216.16.216|:443... connected.\n",
      "HTTP request sent, awaiting response... 200 OK\n",
      "Length: 949440 (927K) [text/csv]\n",
      "Saving to: ‘q4_l1.csv’\n",
      "\n",
      "q4_l1.csv           100%[===================>] 927.19K  --.-KB/s    in 0.1s    \n",
      "\n",
      "2019-12-06 18:14:37 (7.19 MB/s) - ‘q4_l1.csv’ saved [949440/949440]\n",
      "\n",
      "--2019-12-06 18:14:38--  https://labs-fannie-data.s3.amazonaws.com/q4_l2.csv\n",
      "Resolving labs-fannie-data.s3.amazonaws.com (labs-fannie-data.s3.amazonaws.com)... 52.216.16.216\n",
      "Connecting to labs-fannie-data.s3.amazonaws.com (labs-fannie-data.s3.amazonaws.com)|52.216.16.216|:443... connected.\n",
      "HTTP request sent, awaiting response... 200 OK\n",
      "Length: 177560 (173K) [text/csv]\n",
      "Saving to: ‘q4_l2.csv’\n",
      "\n",
      "q4_l2.csv           100%[===================>] 173.40K  --.-KB/s    in 0.06s   \n",
      "\n",
      "2019-12-06 18:14:38 (2.62 MB/s) - ‘q4_l2.csv’ saved [177560/177560]\n",
      "\n",
      "--2019-12-06 18:14:38--  https://labs-fannie-data.s3.amazonaws.com/q4_l3.csv\n",
      "Resolving labs-fannie-data.s3.amazonaws.com (labs-fannie-data.s3.amazonaws.com)... 52.216.16.216\n",
      "Connecting to labs-fannie-data.s3.amazonaws.com (labs-fannie-data.s3.amazonaws.com)|52.216.16.216|:443... connected.\n",
      "HTTP request sent, awaiting response... 200 OK\n",
      "Length: 2760000 (2.6M) [text/csv]\n",
      "Saving to: ‘q4_l3.csv’\n",
      "\n",
      "q4_l3.csv           100%[===================>]   2.63M  17.0MB/s    in 0.2s    \n",
      "\n",
      "2019-12-06 18:14:38 (17.0 MB/s) - ‘q4_l3.csv’ saved [2760000/2760000]\n",
      "\n"
     ]
    }
   ],
   "source": [
    "!wget https://labs-fannie-data.s3.amazonaws.com/q4_l0.csv\n",
    "!wget https://labs-fannie-data.s3.amazonaws.com/q4_l1.csv\n",
    "!wget https://labs-fannie-data.s3.amazonaws.com/q4_l2.csv\n",
    "!wget https://labs-fannie-data.s3.amazonaws.com/q4_l3.csv"
   ]
  },
  {
   "cell_type": "code",
   "execution_count": null,
   "metadata": {},
   "outputs": [],
   "source": []
  }
 ],
 "metadata": {
  "kernelspec": {
   "display_name": "Python 3",
   "language": "python",
   "name": "python3"
  },
  "language_info": {
   "codemirror_mode": {
    "name": "ipython",
    "version": 3
   },
   "file_extension": ".py",
   "mimetype": "text/x-python",
   "name": "python",
   "nbconvert_exporter": "python",
   "pygments_lexer": "ipython3",
   "version": "3.7.3"
  }
 },
 "nbformat": 4,
 "nbformat_minor": 4
}
