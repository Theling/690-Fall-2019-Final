{
 "cells": [
  {
   "cell_type": "markdown",
   "metadata": {},
   "source": [
    "# Build Autoencoder\n",
    "\n",
    "Build an autoencoder with the data provided below as training data.  \n",
    "\n",
    "For the testing data provided as part of the answer submit a list of indices from the testing data that are anamolies."
   ]
  },
  {
   "cell_type": "code",
   "execution_count": 3,
   "metadata": {},
   "outputs": [
    {
     "name": "stdout",
     "output_type": "stream",
     "text": [
      "--2019-12-06 17:57:28--  https://labs-fannie-data.s3.amazonaws.com/q6.csv\n",
      "Resolving labs-fannie-data.s3.amazonaws.com (labs-fannie-data.s3.amazonaws.com)... 52.216.96.3\n",
      "Connecting to labs-fannie-data.s3.amazonaws.com (labs-fannie-data.s3.amazonaws.com)|52.216.96.3|:443... connected.\n",
      "HTTP request sent, awaiting response... 200 OK\n",
      "Length: 9597176 (9.2M) [text/csv]\n",
      "Saving to: ‘q6.csv’\n",
      "\n",
      "q6.csv              100%[===================>]   9.15M  26.2MB/s    in 0.3s    \n",
      "\n",
      "2019-12-06 17:57:28 (26.2 MB/s) - ‘q6.csv’ saved [9597176/9597176]\n",
      "\n"
     ]
    }
   ],
   "source": [
    "!wget https://labs-fannie-data.s3.amazonaws.com/q6.csv"
   ]
  },
  {
   "cell_type": "code",
   "execution_count": null,
   "metadata": {},
   "outputs": [],
   "source": []
  }
 ],
 "metadata": {
  "kernelspec": {
   "display_name": "Python 3",
   "language": "python",
   "name": "python3"
  },
  "language_info": {
   "codemirror_mode": {
    "name": "ipython",
    "version": 3
   },
   "file_extension": ".py",
   "mimetype": "text/x-python",
   "name": "python",
   "nbconvert_exporter": "python",
   "pygments_lexer": "ipython3",
   "version": "3.7.3"
  }
 },
 "nbformat": 4,
 "nbformat_minor": 4
}
