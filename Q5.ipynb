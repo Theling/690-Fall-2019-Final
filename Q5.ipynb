{
 "cells": [
  {
   "cell_type": "code",
   "execution_count": 1,
   "metadata": {},
   "outputs": [],
   "source": [
    "import quandl\n",
    "\n",
    "data = quandl.get(\"FMAC/FIX15YR\")"
   ]
  },
  {
   "cell_type": "markdown",
   "metadata": {},
   "source": [
    "## Question Five\n",
    "\n",
    "Data Source: https://www.quandl.com/data/FMAC/FIX15YR-15-Year-Fix-Rate\n",
    "\n",
    "Code: \"FMAC/FIX15YR\"\n",
    "\n",
    "Use the data up until 2010 to train a regression model and use the data from 2011 onwards to test the model. \n",
    "\n",
    "Describe model choices (Using Markdown Cells is Fine).\n",
    "\n",
    "Display all statistics.\n",
    "\n",
    "Display the results in a graph.  \n",
    "\n",
    "Save the model using the `Model Saving` method, include the saved model.\n",
    "\n",
    "Include all files in the `.zip` file."
   ]
  },
  {
   "cell_type": "code",
   "execution_count": null,
   "metadata": {},
   "outputs": [],
   "source": []
  }
 ],
 "metadata": {
  "kernelspec": {
   "display_name": "Python 3",
   "language": "python",
   "name": "python3"
  },
  "language_info": {
   "codemirror_mode": {
    "name": "ipython",
    "version": 3
   },
   "file_extension": ".py",
   "mimetype": "text/x-python",
   "name": "python",
   "nbconvert_exporter": "python",
   "pygments_lexer": "ipython3",
   "version": "3.7.3"
  }
 },
 "nbformat": 4,
 "nbformat_minor": 4
}
